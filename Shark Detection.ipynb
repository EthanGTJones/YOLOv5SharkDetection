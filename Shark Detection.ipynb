{
 "cells": [
  {
   "cell_type": "markdown",
   "metadata": {},
   "source": [
    "**Set Up Via Google Colab**"
   ]
  },
  {
   "cell_type": "code",
   "execution_count": null,
   "metadata": {},
   "outputs": [],
   "source": [
    "!git clone https://github.com/EthanGTJones/YOLOv5SharkDetection"
   ]
  },
  {
   "cell_type": "code",
   "execution_count": 2,
   "metadata": {},
   "outputs": [
    {
     "name": "stdout",
     "output_type": "stream",
     "text": [
      "Requirement already satisfied: gitpython>=3.1.30 in c:\\users\\ethan\\anaconda3\\lib\\site-packages (from -r yolov5/requirements.txt (line 5)) (3.1.37)\n",
      "Requirement already satisfied: matplotlib>=3.3 in c:\\users\\ethan\\anaconda3\\lib\\site-packages (from -r yolov5/requirements.txt (line 6)) (3.8.0)\n",
      "Requirement already satisfied: numpy>=1.23.5 in c:\\users\\ethan\\anaconda3\\lib\\site-packages (from -r yolov5/requirements.txt (line 7)) (1.26.4)\n",
      "Requirement already satisfied: opencv-python>=4.1.1 in c:\\users\\ethan\\anaconda3\\lib\\site-packages (from -r yolov5/requirements.txt (line 8)) (4.9.0.80)\n",
      "Requirement already satisfied: pillow>=10.3.0 in c:\\users\\ethan\\anaconda3\\lib\\site-packages (from -r yolov5/requirements.txt (line 9)) (10.3.0)\n",
      "Requirement already satisfied: psutil in c:\\users\\ethan\\anaconda3\\lib\\site-packages (from -r yolov5/requirements.txt (line 10)) (5.9.0)\n",
      "Requirement already satisfied: PyYAML>=5.3.1 in c:\\users\\ethan\\anaconda3\\lib\\site-packages (from -r yolov5/requirements.txt (line 11)) (6.0.1)\n",
      "Requirement already satisfied: requests>=2.23.0 in c:\\users\\ethan\\anaconda3\\lib\\site-packages (from -r yolov5/requirements.txt (line 12)) (2.31.0)\n",
      "Requirement already satisfied: scipy>=1.4.1 in c:\\users\\ethan\\anaconda3\\lib\\site-packages (from -r yolov5/requirements.txt (line 13)) (1.11.4)\n",
      "Requirement already satisfied: thop>=0.1.1 in c:\\users\\ethan\\anaconda3\\lib\\site-packages (from -r yolov5/requirements.txt (line 14)) (0.1.1.post2209072238)\n",
      "Requirement already satisfied: torch>=1.8.0 in c:\\users\\ethan\\anaconda3\\lib\\site-packages (from -r yolov5/requirements.txt (line 15)) (2.3.0)\n",
      "Requirement already satisfied: torchvision>=0.9.0 in c:\\users\\ethan\\anaconda3\\lib\\site-packages (from -r yolov5/requirements.txt (line 16)) (0.18.0)\n",
      "Requirement already satisfied: tqdm>=4.64.0 in c:\\users\\ethan\\anaconda3\\lib\\site-packages (from -r yolov5/requirements.txt (line 17)) (4.65.0)\n",
      "Requirement already satisfied: ultralytics>=8.0.232 in c:\\users\\ethan\\anaconda3\\lib\\site-packages (from -r yolov5/requirements.txt (line 18)) (8.2.8)\n",
      "Requirement already satisfied: pandas>=1.1.4 in c:\\users\\ethan\\anaconda3\\lib\\site-packages (from -r yolov5/requirements.txt (line 27)) (2.1.4)\n",
      "Requirement already satisfied: seaborn>=0.11.0 in c:\\users\\ethan\\anaconda3\\lib\\site-packages (from -r yolov5/requirements.txt (line 28)) (0.12.2)\n",
      "Requirement already satisfied: setuptools>=65.5.1 in c:\\users\\ethan\\anaconda3\\lib\\site-packages (from -r yolov5/requirements.txt (line 42)) (68.2.2)\n",
      "Requirement already satisfied: wheel>=0.38.0 in c:\\users\\ethan\\anaconda3\\lib\\site-packages (from -r yolov5/requirements.txt (line 50)) (0.41.2)\n",
      "Requirement already satisfied: gitdb<5,>=4.0.1 in c:\\users\\ethan\\anaconda3\\lib\\site-packages (from gitpython>=3.1.30->-r yolov5/requirements.txt (line 5)) (4.0.7)\n",
      "Requirement already satisfied: contourpy>=1.0.1 in c:\\users\\ethan\\anaconda3\\lib\\site-packages (from matplotlib>=3.3->-r yolov5/requirements.txt (line 6)) (1.2.0)\n",
      "Requirement already satisfied: cycler>=0.10 in c:\\users\\ethan\\anaconda3\\lib\\site-packages (from matplotlib>=3.3->-r yolov5/requirements.txt (line 6)) (0.11.0)\n",
      "Requirement already satisfied: fonttools>=4.22.0 in c:\\users\\ethan\\anaconda3\\lib\\site-packages (from matplotlib>=3.3->-r yolov5/requirements.txt (line 6)) (4.25.0)\n",
      "Requirement already satisfied: kiwisolver>=1.0.1 in c:\\users\\ethan\\anaconda3\\lib\\site-packages (from matplotlib>=3.3->-r yolov5/requirements.txt (line 6)) (1.4.4)\n",
      "Requirement already satisfied: packaging>=20.0 in c:\\users\\ethan\\anaconda3\\lib\\site-packages (from matplotlib>=3.3->-r yolov5/requirements.txt (line 6)) (23.1)\n",
      "Requirement already satisfied: pyparsing>=2.3.1 in c:\\users\\ethan\\anaconda3\\lib\\site-packages (from matplotlib>=3.3->-r yolov5/requirements.txt (line 6)) (3.0.9)\n",
      "Requirement already satisfied: python-dateutil>=2.7 in c:\\users\\ethan\\anaconda3\\lib\\site-packages (from matplotlib>=3.3->-r yolov5/requirements.txt (line 6)) (2.8.2)\n",
      "Requirement already satisfied: charset-normalizer<4,>=2 in c:\\users\\ethan\\anaconda3\\lib\\site-packages (from requests>=2.23.0->-r yolov5/requirements.txt (line 12)) (2.0.4)\n",
      "Requirement already satisfied: idna<4,>=2.5 in c:\\users\\ethan\\anaconda3\\lib\\site-packages (from requests>=2.23.0->-r yolov5/requirements.txt (line 12)) (3.4)\n",
      "Requirement already satisfied: urllib3<3,>=1.21.1 in c:\\users\\ethan\\anaconda3\\lib\\site-packages (from requests>=2.23.0->-r yolov5/requirements.txt (line 12)) (2.0.7)\n",
      "Requirement already satisfied: certifi>=2017.4.17 in c:\\users\\ethan\\anaconda3\\lib\\site-packages (from requests>=2.23.0->-r yolov5/requirements.txt (line 12)) (2024.2.2)\n",
      "Requirement already satisfied: filelock in c:\\users\\ethan\\anaconda3\\lib\\site-packages (from torch>=1.8.0->-r yolov5/requirements.txt (line 15)) (3.13.1)\n",
      "Requirement already satisfied: typing-extensions>=4.8.0 in c:\\users\\ethan\\anaconda3\\lib\\site-packages (from torch>=1.8.0->-r yolov5/requirements.txt (line 15)) (4.9.0)\n",
      "Requirement already satisfied: sympy in c:\\users\\ethan\\anaconda3\\lib\\site-packages (from torch>=1.8.0->-r yolov5/requirements.txt (line 15)) (1.12)\n",
      "Requirement already satisfied: networkx in c:\\users\\ethan\\anaconda3\\lib\\site-packages (from torch>=1.8.0->-r yolov5/requirements.txt (line 15)) (3.1)\n",
      "Requirement already satisfied: jinja2 in c:\\users\\ethan\\anaconda3\\lib\\site-packages (from torch>=1.8.0->-r yolov5/requirements.txt (line 15)) (3.1.3)\n",
      "Requirement already satisfied: fsspec in c:\\users\\ethan\\anaconda3\\lib\\site-packages (from torch>=1.8.0->-r yolov5/requirements.txt (line 15)) (2023.10.0)\n",
      "Requirement already satisfied: mkl<=2021.4.0,>=2021.1.1 in c:\\users\\ethan\\anaconda3\\lib\\site-packages (from torch>=1.8.0->-r yolov5/requirements.txt (line 15)) (2021.4.0)\n",
      "Requirement already satisfied: colorama in c:\\users\\ethan\\anaconda3\\lib\\site-packages (from tqdm>=4.64.0->-r yolov5/requirements.txt (line 17)) (0.4.6)\n",
      "Requirement already satisfied: py-cpuinfo in c:\\users\\ethan\\anaconda3\\lib\\site-packages (from ultralytics>=8.0.232->-r yolov5/requirements.txt (line 18)) (9.0.0)\n",
      "Requirement already satisfied: pytz>=2020.1 in c:\\users\\ethan\\anaconda3\\lib\\site-packages (from pandas>=1.1.4->-r yolov5/requirements.txt (line 27)) (2023.3.post1)\n",
      "Requirement already satisfied: tzdata>=2022.1 in c:\\users\\ethan\\anaconda3\\lib\\site-packages (from pandas>=1.1.4->-r yolov5/requirements.txt (line 27)) (2023.3)\n",
      "Requirement already satisfied: smmap<5,>=3.0.1 in c:\\users\\ethan\\anaconda3\\lib\\site-packages (from gitdb<5,>=4.0.1->gitpython>=3.1.30->-r yolov5/requirements.txt (line 5)) (4.0.0)\n",
      "Requirement already satisfied: intel-openmp==2021.* in c:\\users\\ethan\\anaconda3\\lib\\site-packages (from mkl<=2021.4.0,>=2021.1.1->torch>=1.8.0->-r yolov5/requirements.txt (line 15)) (2021.4.0)\n",
      "Requirement already satisfied: tbb==2021.* in c:\\users\\ethan\\anaconda3\\lib\\site-packages (from mkl<=2021.4.0,>=2021.1.1->torch>=1.8.0->-r yolov5/requirements.txt (line 15)) (2021.12.0)\n",
      "Requirement already satisfied: six>=1.5 in c:\\users\\ethan\\anaconda3\\lib\\site-packages (from python-dateutil>=2.7->matplotlib>=3.3->-r yolov5/requirements.txt (line 6)) (1.16.0)\n",
      "Requirement already satisfied: MarkupSafe>=2.0 in c:\\users\\ethan\\anaconda3\\lib\\site-packages (from jinja2->torch>=1.8.0->-r yolov5/requirements.txt (line 15)) (2.1.3)\n",
      "Requirement already satisfied: mpmath>=0.19 in c:\\users\\ethan\\anaconda3\\lib\\site-packages (from sympy->torch>=1.8.0->-r yolov5/requirements.txt (line 15)) (1.3.0)\n"
     ]
    }
   ],
   "source": [
    "# !pip install -r /content/YOLOv5SharkDetection/yolov5/requirements.txt\n",
    "!pip install -r yolov5/requirements.txt"
   ]
  },
  {
   "cell_type": "markdown",
   "metadata": {},
   "source": [
    "**Imports**"
   ]
  },
  {
   "cell_type": "code",
   "execution_count": 3,
   "metadata": {},
   "outputs": [],
   "source": [
    "import torch\n",
    "from matplotlib import pyplot as plt\n",
    "import numpy as np\n",
    "import cv2\n",
    "import os"
   ]
  },
  {
   "cell_type": "code",
   "execution_count": 9,
   "metadata": {},
   "outputs": [
    {
     "ename": "",
     "evalue": "",
     "output_type": "error",
     "traceback": [
      "\u001b[1;31mThe Kernel crashed while executing code in the current cell or a previous cell. \n",
      "\u001b[1;31mPlease review the code in the cell(s) to identify a possible cause of the failure. \n",
      "\u001b[1;31mClick <a href='https://aka.ms/vscodeJupyterKernelCrash'>here</a> for more info. \n",
      "\u001b[1;31mView Jupyter <a href='command:jupyter.viewOutput'>log</a> for further details."
     ]
    }
   ],
   "source": [
    "# !python yolov5/train.py --img-size 1280 --rect --epochs 150 --data yolov5/data/data.yaml --weights yolov5s.pt"
   ]
  },
  {
   "cell_type": "code",
   "execution_count": 4,
   "metadata": {},
   "outputs": [],
   "source": [
    "import pathlib\n",
    "temp = pathlib.PosixPath\n",
    "pathlib.PosixPath = pathlib.WindowsPath"
   ]
  },
  {
   "cell_type": "code",
   "execution_count": 5,
   "metadata": {},
   "outputs": [
    {
     "name": "stderr",
     "output_type": "stream",
     "text": [
      "YOLOv5  2024-5-10 Python-3.11.7 torch-2.3.0+cpu CPU\n",
      "\n",
      "Fusing layers... \n",
      "Model summary: 157 layers, 7012822 parameters, 0 gradients, 15.8 GFLOPs\n",
      "Adding AutoShape... \n"
     ]
    }
   ],
   "source": [
    "model = torch.hub.load('yolov5', 'custom', path='yolov5/runs/train/exp/weights/best.pt', source='local', force_reload=True)"
   ]
  },
  {
   "cell_type": "code",
   "execution_count": 6,
   "metadata": {},
   "outputs": [
    {
     "name": "stderr",
     "output_type": "stream",
     "text": [
      "image 1/1: 720x1280 1 shark\n",
      "Speed: 26.1ms pre-process, 92.3ms inference, 1.3ms NMS per image at shape (1, 3, 384, 640)\n"
     ]
    }
   ],
   "source": [
    "img = os.path.join('yolov5/train/images/02806_png.rf.00f06e5383f563c94bef10dde720b2da.jpg')\n",
    "results = model(img)\n",
    "results.print()"
   ]
  },
  {
   "cell_type": "code",
   "execution_count": 7,
   "metadata": {},
   "outputs": [
    {
     "ename": "KeyboardInterrupt",
     "evalue": "",
     "output_type": "error",
     "traceback": [
      "\u001b[1;31m---------------------------------------------------------------------------\u001b[0m",
      "\u001b[1;31mKeyboardInterrupt\u001b[0m                         Traceback (most recent call last)",
      "Cell \u001b[1;32mIn[7], line 9\u001b[0m\n\u001b[0;32m      5\u001b[0m     results \u001b[38;5;241m=\u001b[39m model(frame)\n\u001b[0;32m      7\u001b[0m     cv2\u001b[38;5;241m.\u001b[39mimshow(\u001b[38;5;124m'\u001b[39m\u001b[38;5;124mYOLO\u001b[39m\u001b[38;5;124m'\u001b[39m, np\u001b[38;5;241m.\u001b[39msqueeze(results\u001b[38;5;241m.\u001b[39mrender()))\n\u001b[1;32m----> 9\u001b[0m     \u001b[38;5;28;01mif\u001b[39;00m cv2\u001b[38;5;241m.\u001b[39mwaitKey(\u001b[38;5;241m10\u001b[39m) \u001b[38;5;241m&\u001b[39m \u001b[38;5;241m0xFF\u001b[39m \u001b[38;5;241m==\u001b[39m \u001b[38;5;28mord\u001b[39m(\u001b[38;5;124m'\u001b[39m\u001b[38;5;124mq\u001b[39m\u001b[38;5;124m'\u001b[39m):\n\u001b[0;32m     10\u001b[0m         \u001b[38;5;28;01mbreak\u001b[39;00m\n\u001b[0;32m     12\u001b[0m cap\u001b[38;5;241m.\u001b[39mrelease()\n",
      "\u001b[1;31mKeyboardInterrupt\u001b[0m: "
     ]
    },
    {
     "ename": "",
     "evalue": "",
     "output_type": "error",
     "traceback": [
      "\u001b[1;31mThe Kernel crashed while executing code in the current cell or a previous cell. \n",
      "\u001b[1;31mPlease review the code in the cell(s) to identify a possible cause of the failure. \n",
      "\u001b[1;31mClick <a href='https://aka.ms/vscodeJupyterKernelCrash'>here</a> for more info. \n",
      "\u001b[1;31mView Jupyter <a href='command:jupyter.viewOutput'>log</a> for further details."
     ]
    }
   ],
   "source": [
    "cap = cv2.VideoCapture('yolov5/unseen_data.mp4')\n",
    "while cap.isOpened():\n",
    "    ret, frame = cap.read()\n",
    "    \n",
    "    results = model(frame)\n",
    "    \n",
    "    cv2.imshow('YOLO', np.squeeze(results.render()))\n",
    "    \n",
    "    if cv2.waitKey(10) & 0xFF == ord('q'):\n",
    "        break\n",
    "\n",
    "cap.release()\n",
    "cv2.destroyAllWindows()"
   ]
  }
 ],
 "metadata": {
  "kernelspec": {
   "display_name": "Python 3",
   "language": "python",
   "name": "python3"
  },
  "language_info": {
   "codemirror_mode": {
    "name": "ipython",
    "version": 3
   },
   "file_extension": ".py",
   "mimetype": "text/x-python",
   "name": "python",
   "nbconvert_exporter": "python",
   "pygments_lexer": "ipython3",
   "version": "3.11.7"
  }
 },
 "nbformat": 4,
 "nbformat_minor": 2
}
